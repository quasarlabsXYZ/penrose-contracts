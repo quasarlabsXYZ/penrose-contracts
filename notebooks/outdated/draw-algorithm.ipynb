{
 "cells": [
  {
   "cell_type": "code",
   "execution_count": 1,
   "metadata": {},
   "outputs": [],
   "source": [
    "from IPython.display import display, HTML\n",
    "import random"
   ]
  },
  {
   "cell_type": "code",
   "execution_count": 2,
   "metadata": {},
   "outputs": [],
   "source": [
    "class Penrose:\n",
    "    def __init__(self, seed, size):\n",
    "        self.SEED = seed\n",
    "        self.SIZE = size\n",
    "        self.scheme = self._getScheme()\n",
    "\n",
    "        self.ONE = int(\"100000000\", base=16)\n",
    "\n",
    "        self.output = self._draw()\n",
    "        self.output2 = self._draw2()\n",
    "\n",
    "        self.svg = self._svg(self.output)\n",
    "        self.svg2 = self._svg(self.output2)\n",
    "\n",
    "    def _getScheme(self):\n",
    "\n",
    "        SCHEME = {\n",
    "            1: \"..+-|\",\n",
    "            2: \".X/\\.\",\n",
    "            3: \"O|-..\",\n",
    "            4: \"|\\/#.\",\n",
    "            5: \"#O...\",\n",
    "        }\n",
    "\n",
    "        index = self.SEED % 83\n",
    "        if index < 20:\n",
    "            return SCHEME[1]\n",
    "        if index < 45:\n",
    "            return SCHEME[2]\n",
    "        if index < 70:\n",
    "            return SCHEME[3]\n",
    "        if index < 80:\n",
    "            return SCHEME[4]\n",
    "        else:\n",
    "            return SCHEME[5]\n",
    "\n",
    "    def _draw(self):\n",
    "        \n",
    "        HALF_SIZE = self.SIZE // 2\n",
    "        mod = (self.SEED % 11) + 5\n",
    "        output = []\n",
    "        \n",
    "        for i in range(self.SIZE):\n",
    "            resstr = \"\"\n",
    "\n",
    "            y = (2 * (i - HALF_SIZE) + 1)\n",
    "            if (self.SEED % 3 == 1):\n",
    "                y = -y\n",
    "            elif (self.SEED % 3 == 2):\n",
    "                y = abs(y)\n",
    "\n",
    "            y = y * int(self.SEED)\n",
    "            \n",
    "            for j in range(self.SIZE):\n",
    "                x = (2 * (j - HALF_SIZE) + 1)\n",
    "                if (self.SEED % 2 == 1):\n",
    "                    x = abs(x)\n",
    "                x = x * int(self.SEED)\n",
    "                v = abs(int(x * y /self.ONE % mod))\n",
    "\n",
    "                if ( v < 5 ):\n",
    "                    value = self.scheme[v]\n",
    "                else:\n",
    "                    value = \".\"\n",
    "\n",
    "                resstr += f\"{value}\"\n",
    "\n",
    "            output.append(resstr)\n",
    "\n",
    "        return output\n",
    "\n",
    "    def _for_each_col(self, j, resstr, y, half_size, mod):\n",
    "        if (j == self.SIZE):\n",
    "            return resstr\n",
    "\n",
    "        x = (2 * (j - half_size) + 1)\n",
    "        if (self.SEED % 2 == 1):\n",
    "            x = abs(x)\n",
    "\n",
    "        x = x * int(self.SEED)\n",
    "        v = abs(int(x * y /self.ONE % mod))\n",
    "\n",
    "        if (v < 5):\n",
    "            value = self.scheme[v]\n",
    "        else:\n",
    "            value = \".\"\n",
    "\n",
    "        resstr += f\"{value}\"\n",
    "\n",
    "        j = j + 1\n",
    "\n",
    "        return self._for_each_col(j, resstr, y, half_size, mod)\n",
    "\n",
    "    def _for_each_row(self, i, output, half_size, mod):\n",
    "        if (i == self.SIZE):\n",
    "            return output\n",
    "\n",
    "        resstr = \"\"\n",
    "        y = (2 * (i - half_size) + 1)\n",
    "        if (self.SEED % 3 == 1):\n",
    "            y = -y\n",
    "        elif (self.SEED % 3 == 2):\n",
    "            y = abs(y)\n",
    "\n",
    "        y = y * int(self.SEED)\n",
    "        j = 0\n",
    "\n",
    "        output.append(self._for_each_col(j, resstr, y, half_size, mod))\n",
    "        \n",
    "        i = i + 1\n",
    "\n",
    "        return self._for_each_row(i, output, half_size, mod)\n",
    "\n",
    "    def _draw2(self): # This is the second version of the algorithm using recursion only\n",
    "        \n",
    "        HALF_SIZE = self.SIZE // 2\n",
    "        mod = (self.SEED % 11) + 5\n",
    "        output = []\n",
    "        i = 0\n",
    "\n",
    "        results = self._for_each_row(i, output, HALF_SIZE, mod)\n",
    "\n",
    "        return results\n",
    "\n",
    "    def _svg(self, output):\n",
    "        results = \"\"\"<svg xmlns=\"http://www.w3.org/2000/svg\" preserveAspectRatio=\"xMinYMin meet\" viewBox=\"0 0 400 400\"><defs><style>@import url('https://fonts.googleapis.com/css2?family=IBM+Plex+Mono:wght@100&display=swap');</style></defs><style>.base { fill: white; font-family: 'IBM Plex Mono', monospace;font-size: 20px; }</style><rect width=\"100%\" height=\"100%\" fill=\"black\" />\"\"\"\n",
    "        counter = 25\n",
    "        for row in output:\n",
    "            results += f\"\"\"<text x=\"50%\" y=\"{counter}%\" class=\"base\" text-anchor=\"middle\">{row}</text>\"\"\"\n",
    "            counter += 5\n",
    "        results += \"\"\"</svg>\"\"\"\n",
    "        return results"
   ]
  },
  {
   "cell_type": "code",
   "execution_count": 3,
   "metadata": {},
   "outputs": [],
   "source": [
    "random.seed(42)"
   ]
  },
  {
   "cell_type": "code",
   "execution_count": 4,
   "metadata": {},
   "outputs": [],
   "source": [
    "SEED = int(random.random() * 10e9 + 1)\n",
    "SIZE = 10"
   ]
  },
  {
   "cell_type": "code",
   "execution_count": 5,
   "metadata": {},
   "outputs": [
    {
     "data": {
      "text/plain": [
       "['/X......X/',\n",
       " 'X...XX...X',\n",
       " '..\\\\....\\\\..',\n",
       " '....//....',\n",
       " '.X./../.X.',\n",
       " '.X./../.X.',\n",
       " '....//....',\n",
       " '..\\\\....\\\\..',\n",
       " 'X...XX...X',\n",
       " '/X......X/']"
      ]
     },
     "execution_count": 5,
     "metadata": {},
     "output_type": "execute_result"
    }
   ],
   "source": [
    "nft = Penrose(SEED, SIZE)\n",
    "nft.output2"
   ]
  },
  {
   "cell_type": "code",
   "execution_count": 6,
   "metadata": {},
   "outputs": [
    {
     "data": {
      "text/plain": [
       "'<svg xmlns=\"http://www.w3.org/2000/svg\" preserveAspectRatio=\"xMinYMin meet\" viewBox=\"0 0 400 400\"><defs><style>@import url(\\'https://fonts.googleapis.com/css2?family=IBM+Plex+Mono:wght@100&display=swap\\');</style></defs><style>.base { fill: white; font-family: \\'IBM Plex Mono\\', monospace;font-size: 20px; }</style><rect width=\"100%\" height=\"100%\" fill=\"black\" /><text x=\"50%\" y=\"25%\" class=\"base\" text-anchor=\"middle\">/X......X/</text><text x=\"50%\" y=\"30%\" class=\"base\" text-anchor=\"middle\">X...XX...X</text><text x=\"50%\" y=\"35%\" class=\"base\" text-anchor=\"middle\">..\\\\....\\\\..</text><text x=\"50%\" y=\"40%\" class=\"base\" text-anchor=\"middle\">....//....</text><text x=\"50%\" y=\"45%\" class=\"base\" text-anchor=\"middle\">.X./../.X.</text><text x=\"50%\" y=\"50%\" class=\"base\" text-anchor=\"middle\">.X./../.X.</text><text x=\"50%\" y=\"55%\" class=\"base\" text-anchor=\"middle\">....//....</text><text x=\"50%\" y=\"60%\" class=\"base\" text-anchor=\"middle\">..\\\\....\\\\..</text><text x=\"50%\" y=\"65%\" class=\"base\" text-anchor=\"middle\">X...XX...X</text><text x=\"50%\" y=\"70%\" class=\"base\" text-anchor=\"middle\">/X......X/</text></svg>'"
      ]
     },
     "execution_count": 6,
     "metadata": {},
     "output_type": "execute_result"
    }
   ],
   "source": [
    "nft.svg2"
   ]
  },
  {
   "cell_type": "code",
   "execution_count": 7,
   "metadata": {},
   "outputs": [
    {
     "data": {
      "text/html": [
       "<svg xmlns=\"http://www.w3.org/2000/svg\" preserveAspectRatio=\"xMinYMin meet\" viewBox=\"0 0 400 400\"><defs><style>@import url('https://fonts.googleapis.com/css2?family=IBM+Plex+Mono:wght@100&display=swap');</style></defs><style>.base { fill: white; font-family: 'IBM Plex Mono', monospace;font-size: 20px; }</style><rect width=\"100%\" height=\"100%\" fill=\"black\" /><text x=\"50%\" y=\"25%\" class=\"base\" text-anchor=\"middle\">/X......X/</text><text x=\"50%\" y=\"30%\" class=\"base\" text-anchor=\"middle\">X...XX...X</text><text x=\"50%\" y=\"35%\" class=\"base\" text-anchor=\"middle\">..\\....\\..</text><text x=\"50%\" y=\"40%\" class=\"base\" text-anchor=\"middle\">....//....</text><text x=\"50%\" y=\"45%\" class=\"base\" text-anchor=\"middle\">.X./../.X.</text><text x=\"50%\" y=\"50%\" class=\"base\" text-anchor=\"middle\">.X./../.X.</text><text x=\"50%\" y=\"55%\" class=\"base\" text-anchor=\"middle\">....//....</text><text x=\"50%\" y=\"60%\" class=\"base\" text-anchor=\"middle\">..\\....\\..</text><text x=\"50%\" y=\"65%\" class=\"base\" text-anchor=\"middle\">X...XX...X</text><text x=\"50%\" y=\"70%\" class=\"base\" text-anchor=\"middle\">/X......X/</text></svg>"
      ],
      "text/plain": [
       "<IPython.core.display.HTML object>"
      ]
     },
     "metadata": {},
     "output_type": "display_data"
    }
   ],
   "source": [
    "display(HTML(nft.svg2))"
   ]
  },
  {
   "cell_type": "code",
   "execution_count": null,
   "metadata": {},
   "outputs": [],
   "source": []
  }
 ],
 "metadata": {
  "kernelspec": {
   "display_name": "Python 3.8.9 64-bit",
   "language": "python",
   "name": "python3"
  },
  "language_info": {
   "codemirror_mode": {
    "name": "ipython",
    "version": 3
   },
   "file_extension": ".py",
   "mimetype": "text/x-python",
   "name": "python",
   "nbconvert_exporter": "python",
   "pygments_lexer": "ipython3",
   "version": "3.8.9"
  },
  "orig_nbformat": 4,
  "vscode": {
   "interpreter": {
    "hash": "31f2aee4e71d21fbe5cf8b01ff0e069b9275f58929596ceb00d14d90e3e16cd6"
   }
  }
 },
 "nbformat": 4,
 "nbformat_minor": 2
}
