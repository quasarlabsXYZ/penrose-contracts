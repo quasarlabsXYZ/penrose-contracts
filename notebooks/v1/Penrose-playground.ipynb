{
 "cells": [
  {
   "cell_type": "code",
   "execution_count": 1,
   "metadata": {},
   "outputs": [],
   "source": [
    "from IPython.display import display, HTML\n",
    "import random\n",
    "\n",
    "from Penrose import Penrose"
   ]
  },
  {
   "cell_type": "code",
   "execution_count": 2,
   "metadata": {},
   "outputs": [],
   "source": [
    "penrose = Penrose()\n",
    "random.seed(42)"
   ]
  },
  {
   "cell_type": "code",
   "execution_count": 3,
   "metadata": {},
   "outputs": [
    {
     "name": "stdout",
     "output_type": "stream",
     "text": [
      "TokenID: 1\n"
     ]
    },
    {
     "data": {
      "text/html": [
       "<svg xmlns=\"http://www.w3.org/2000/svg\" preserveAspectRatio=\"xMinYMin meet\" viewBox=\"0 0 400 400\"><defs><style>@font-face{font-family:\"Penrose\";src:url(\"./Penrose.ttf\");}</style></defs><style>.base { fill: #ffffff; font-family: \"Penrose\", monospace;font-size: 5px;}</style><rect width=\"100%\" height=\"100%\" fill=\"#000000\" /><text x=\"50%\" y=\"10%\" class=\"base\" text-anchor=\"middle\">/..../..../....\\....\\....\\X...\\XX\\...X\\....\\....\\..../..../..../</text><text x=\"50%\" y=\"11.25%\" class=\"base\" text-anchor=\"middle\">.../...X..\\.../...X..\\.../...X....X.../...\\..X.../...\\..X.../...</text><text x=\"50%\" y=\"12.5%\" class=\"base\" text-anchor=\"middle\">..X..X..X.......\\..\\..\\../../..XX../../..\\..\\..\\.......X..X..X..</text><text x=\"50%\" y=\"13.75%\" class=\"base\" text-anchor=\"middle\">./....X.\\..../....X.\\..../....X..X..../....\\.X..../....\\.X..../.</text><text x=\"50%\" y=\"15.0%\" class=\"base\" text-anchor=\"middle\">...............X.X.X.X.X././././/./././.X.X.X.X.X...............</text><text x=\"50%\" y=\"16.25%\" class=\"base\" text-anchor=\"middle\">/.X....\\./....../.X....\\.X....\\..\\....X.\\....X./....../.\\....X./</text><text x=\"50%\" y=\"17.5%\" class=\"base\" text-anchor=\"middle\">...X../..\\....X../..\\....X../..\\\\../..X....\\../..X....\\../..X...</text><text x=\"50%\" y=\"18.75%\" class=\"base\" text-anchor=\"middle\">.X...\\../...\\../....../..X...\\....\\...X../....../..\\.../..\\...X.</text><text x=\"50%\" y=\"20.0%\" class=\"base\" text-anchor=\"middle\">..X\\.../..../...X\\.../....\\...X..X...\\..../...\\X.../..../...\\X..</text><text x=\"50%\" y=\"21.25%\" class=\"base\" text-anchor=\"middle\">...../\\...../\\...../\\...../\\........\\/.....\\/.....\\/.....\\/.....</text><text x=\"50%\" y=\"22.5%\" class=\"base\" text-anchor=\"middle\">/\\..........X//\\..........XX/\\....\\/XX..........\\//X..........\\/</text><text x=\"50%\" y=\"23.75%\" class=\"base\" text-anchor=\"middle\">................................................................</text><text x=\"50%\" y=\"25.0%\" class=\"base\" text-anchor=\"middle\">.......\\//X..........\\/X................X/\\..........X//\\.......</text><text x=\"50%\" y=\"26.25%\" class=\"base\" text-anchor=\"middle\">.../.....\\/.....\\X...../X...../../.....X/.....X\\...../\\...../...</text><text x=\"50%\" y=\"27.5%\" class=\"base\" text-anchor=\"middle\">./....X.../....X.../....X...\\......\\...X..../...X..../...X..../.</text><text x=\"50%\" y=\"28.75%\" class=\"base\" text-anchor=\"middle\">\\...X../..\\...X../...X../..\\...XX...\\../..X.../..X...\\../..X...\\</text><text x=\"50%\" y=\"30.0%\" class=\"base\" text-anchor=\"middle\">..\\../..X....\\../..X.\\../..X........X../..\\.X../..\\....X../..\\..</text><text x=\"50%\" y=\"31.25%\" class=\"base\" text-anchor=\"middle\">....X./.\\....X./....../.\\....X.//.X....\\./....../.X....\\./.X....</text><text x=\"50%\" y=\"32.5%\" class=\"base\" text-anchor=\"middle\">.X.X.X..................\\.\\.\\./../.\\.\\.\\..................X.X.X.</text><text x=\"50%\" y=\"33.75%\" class=\"base\" text-anchor=\"middle\">..\\.X..../..../.X..\\.X..../....\\\\..../....X.\\..X./..../....X.\\..</text><text x=\"50%\" y=\"35.0%\" class=\"base\" text-anchor=\"middle\">\\..\\..\\..\\.............X..X..X....X..X..X.............\\..\\..\\..\\</text><text x=\"50%\" y=\"36.25%\" class=\"base\" text-anchor=\"middle\">.\\..X.../...\\..X\\..X.../...\\..X..X..\\.../...X..\\X..\\.../...X..\\.</text><text x=\"50%\" y=\"37.5%\" class=\"base\" text-anchor=\"middle\">..\\..../..../..../....X\\...X\\......\\X...\\X..../..../..../....\\..</text><text x=\"50%\" y=\"38.75%\" class=\"base\" text-anchor=\"middle\">....X\\......X/......X/\\....../\\..\\/......\\/X....../X......\\X....</text><text x=\"50%\" y=\"40.0%\" class=\"base\" text-anchor=\"middle\">.............XX//\\\\..........................\\\\//XX.............</text><text x=\"50%\" y=\"41.25%\" class=\"base\" text-anchor=\"middle\">\\////XXX................................................XXX////\\</text><text x=\"50%\" y=\"42.5%\" class=\"base\" text-anchor=\"middle\">X.......\\/X.......\\/X.......\\/X..X/\\.......X/\\.......X/\\.......X</text><text x=\"50%\" y=\"43.75%\" class=\"base\" text-anchor=\"middle\">..../....\\X....\\X....\\X..../X......X/....X\\....X\\....X\\..../....</text><text x=\"50%\" y=\"45.0%\" class=\"base\" text-anchor=\"middle\">../.../.../...\\...\\...\\...\\X...XX...X\\...\\...\\...\\.../.../.../..</text><text x=\"50%\" y=\"46.25%\" class=\"base\" text-anchor=\"middle\">.X../..\\..\\......X..X../../..\\....\\../../..X..X......\\..\\../..X.</text><text x=\"50%\" y=\"47.5%\" class=\"base\" text-anchor=\"middle\">\\..X.\\..X..../..../..X.\\..X....//....X..\\.X../..../....X..\\.X..\\</text><text x=\"50%\" y=\"48.75%\" class=\"base\" text-anchor=\"middle\">X.X./.\\........X./.\\........X./../.X........\\./.X........\\./.X.X</text><text x=\"50%\" y=\"50.0%\" class=\"base\" text-anchor=\"middle\">X.X./.\\........X./.\\........X./../.X........\\./.X........\\./.X.X</text><text x=\"50%\" y=\"51.25%\" class=\"base\" text-anchor=\"middle\">\\..X.\\..X..../..../..X.\\..X....//....X..\\.X../..../....X..\\.X..\\</text><text x=\"50%\" y=\"52.5%\" class=\"base\" text-anchor=\"middle\">.X../..\\..\\......X..X../../..\\....\\../../..X..X......\\..\\../..X.</text><text x=\"50%\" y=\"53.75%\" class=\"base\" text-anchor=\"middle\">../.../.../...\\...\\...\\...\\X...XX...X\\...\\...\\...\\.../.../.../..</text><text x=\"50%\" y=\"55.0%\" class=\"base\" text-anchor=\"middle\">..../....\\X....\\X....\\X..../X......X/....X\\....X\\....X\\..../....</text><text x=\"50%\" y=\"56.25%\" class=\"base\" text-anchor=\"middle\">X.......\\/X.......\\/X.......\\/X..X/\\.......X/\\.......X/\\.......X</text><text x=\"50%\" y=\"57.5%\" class=\"base\" text-anchor=\"middle\">\\////XXX................................................XXX////\\</text><text x=\"50%\" y=\"58.75%\" class=\"base\" text-anchor=\"middle\">.............XX//\\\\..........................\\\\//XX.............</text><text x=\"50%\" y=\"60.0%\" class=\"base\" text-anchor=\"middle\">....X\\......X/......X/\\....../\\..\\/......\\/X....../X......\\X....</text><text x=\"50%\" y=\"61.25%\" class=\"base\" text-anchor=\"middle\">..\\..../..../..../....X\\...X\\......\\X...\\X..../..../..../....\\..</text><text x=\"50%\" y=\"62.5%\" class=\"base\" text-anchor=\"middle\">.\\..X.../...\\..X\\..X.../...\\..X..X..\\.../...X..\\X..\\.../...X..\\.</text><text x=\"50%\" y=\"63.75%\" class=\"base\" text-anchor=\"middle\">\\..\\..\\..\\.............X..X..X....X..X..X.............\\..\\..\\..\\</text><text x=\"50%\" y=\"65.0%\" class=\"base\" text-anchor=\"middle\">..\\.X..../..../.X..\\.X..../....\\\\..../....X.\\..X./..../....X.\\..</text><text x=\"50%\" y=\"66.25%\" class=\"base\" text-anchor=\"middle\">.X.X.X..................\\.\\.\\./../.\\.\\.\\..................X.X.X.</text><text x=\"50%\" y=\"67.5%\" class=\"base\" text-anchor=\"middle\">....X./.\\....X./....../.\\....X.//.X....\\./....../.X....\\./.X....</text><text x=\"50%\" y=\"68.75%\" class=\"base\" text-anchor=\"middle\">..\\../..X....\\../..X.\\../..X........X../..\\.X../..\\....X../..\\..</text><text x=\"50%\" y=\"70.0%\" class=\"base\" text-anchor=\"middle\">\\...X../..\\...X../...X../..\\...XX...\\../..X.../..X...\\../..X...\\</text><text x=\"50%\" y=\"71.25%\" class=\"base\" text-anchor=\"middle\">./....X.../....X.../....X...\\......\\...X..../...X..../...X..../.</text><text x=\"50%\" y=\"72.5%\" class=\"base\" text-anchor=\"middle\">.../.....\\/.....\\X...../X...../../.....X/.....X\\...../\\...../...</text><text x=\"50%\" y=\"73.75%\" class=\"base\" text-anchor=\"middle\">.......\\//X..........\\/X................X/\\..........X//\\.......</text><text x=\"50%\" y=\"75.0%\" class=\"base\" text-anchor=\"middle\">................................................................</text><text x=\"50%\" y=\"76.25%\" class=\"base\" text-anchor=\"middle\">/\\..........X//\\..........XX/\\....\\/XX..........\\//X..........\\/</text><text x=\"50%\" y=\"77.5%\" class=\"base\" text-anchor=\"middle\">...../\\...../\\...../\\...../\\........\\/.....\\/.....\\/.....\\/.....</text><text x=\"50%\" y=\"78.75%\" class=\"base\" text-anchor=\"middle\">..X\\.../..../...X\\.../....\\...X..X...\\..../...\\X.../..../...\\X..</text><text x=\"50%\" y=\"80.0%\" class=\"base\" text-anchor=\"middle\">.X...\\../...\\../....../..X...\\....\\...X../....../..\\.../..\\...X.</text><text x=\"50%\" y=\"81.25%\" class=\"base\" text-anchor=\"middle\">...X../..\\....X../..\\....X../..\\\\../..X....\\../..X....\\../..X...</text><text x=\"50%\" y=\"82.5%\" class=\"base\" text-anchor=\"middle\">/.X....\\./....../.X....\\.X....\\..\\....X.\\....X./....../.\\....X./</text><text x=\"50%\" y=\"83.75%\" class=\"base\" text-anchor=\"middle\">...............X.X.X.X.X././././/./././.X.X.X.X.X...............</text><text x=\"50%\" y=\"85.0%\" class=\"base\" text-anchor=\"middle\">./....X.\\..../....X.\\..../....X..X..../....\\.X..../....\\.X..../.</text><text x=\"50%\" y=\"86.25%\" class=\"base\" text-anchor=\"middle\">..X..X..X.......\\..\\..\\../../..XX../../..\\..\\..\\.......X..X..X..</text><text x=\"50%\" y=\"87.5%\" class=\"base\" text-anchor=\"middle\">.../...X..\\.../...X..\\.../...X....X.../...\\..X.../...\\..X.../...</text><text x=\"50%\" y=\"88.75%\" class=\"base\" text-anchor=\"middle\">/..../..../....\\....\\....\\X...\\XX\\...X\\....\\....\\..../..../..../</text></svg>"
      ],
      "text/plain": [
       "<IPython.core.display.HTML object>"
      ]
     },
     "metadata": {},
     "output_type": "display_data"
    }
   ],
   "source": [
    "seed = int(random.random() * 10e9 + 1)\n",
    "\n",
    "penrose.mint(seed)\n",
    "\n",
    "tokenId = penrose.numTokens\n",
    "print(f\"TokenID: {tokenId}\")\n",
    "\n",
    "display(HTML(penrose.tokenSVG(tokenId)))"
   ]
  }
 ],
 "metadata": {
  "kernelspec": {
   "display_name": "Python 3.8.9 64-bit",
   "language": "python",
   "name": "python3"
  },
  "language_info": {
   "codemirror_mode": {
    "name": "ipython",
    "version": 3
   },
   "file_extension": ".py",
   "mimetype": "text/x-python",
   "name": "python",
   "nbconvert_exporter": "python",
   "pygments_lexer": "ipython3",
   "version": "3.8.9"
  },
  "orig_nbformat": 4,
  "vscode": {
   "interpreter": {
    "hash": "31f2aee4e71d21fbe5cf8b01ff0e069b9275f58929596ceb00d14d90e3e16cd6"
   }
  }
 },
 "nbformat": 4,
 "nbformat_minor": 2
}
